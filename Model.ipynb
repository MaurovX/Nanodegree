{
 "cells": [
  {
   "cell_type": "markdown",
   "metadata": {},
   "source": [
    "# ETL Data Cleanup and Feature Engineering"
   ]
  },
  {
   "cell_type": "code",
   "execution_count": 13,
   "metadata": {},
   "outputs": [
    {
     "name": "stderr",
     "output_type": "stream",
     "text": [
      "UsageError: Line magic function `%matploblib` not found.\n"
     ]
    }
   ],
   "source": [
    "import numpy as np               # Array, Vector, matrix calculations\n",
    "import pandas as pd              # DataFrame handling\n",
    "import matplotlib.pyplot as plt  # Plotting\n",
    "from sklearn.model_selection import train_test_split\n",
    "from sklearn.ensemble import RandomForestClassifier\n",
    "from sklearn.metrics import plot_roc_curve\n",
    "from sklearn import preprocessing\n",
    "from matplotlib import pyplot\n",
    "pd.options.display.max_columns = 999\n",
    "\n",
    "%matploblib inline\n",
    "np.random.seed(42)               # Answer to everything"
   ]
  },
  {
   "cell_type": "code",
   "execution_count": 21,
   "metadata": {},
   "outputs": [],
   "source": [
    "# Import file\n",
    "path = 'D:/Python/Projects/02_GSC/cs-training.csv'\n",
    "data = pd.read_csv(path,\n",
    "                  usecols = ['SeriousDlqin2yrs',\n",
    "                             'RevolvingUtilizationOfUnsecuredLines',\n",
    "                             'age',\n",
    "                             'NumberOfTime30-59DaysPastDueNotWorse',\n",
    "                             'DebtRatio',\n",
    "                             'MonthlyIncome',\n",
    "                             'NumberOfOpenCreditLinesAndLoans',\n",
    "                             'NumberOfTimes90DaysLate',\n",
    "                             'NumberRealEstateLoansOrLines',\n",
    "                             'NumberOfTime60-89DaysPastDueNotWorse',\n",
    "                             'NumberOfDependents'])"
   ]
  },
  {
   "cell_type": "markdown",
   "metadata": {},
   "source": [
    "## Null treatment\n",
    "\n",
    "Identify clear Nan Values, replace with median. Median preferred due to robustness on data, and feasible value."
   ]
  },
  {
   "cell_type": "markdown",
   "metadata": {},
   "source": [
    "data.isna().sum() # Diagnose Dataframe"
   ]
  },
  {
   "cell_type": "code",
   "execution_count": 22,
   "metadata": {},
   "outputs": [
    {
     "data": {
      "text/plain": [
       "SeriousDlqin2yrs                        0\n",
       "RevolvingUtilizationOfUnsecuredLines    0\n",
       "age                                     0\n",
       "NumberOfTime30-59DaysPastDueNotWorse    0\n",
       "DebtRatio                               0\n",
       "MonthlyIncome                           0\n",
       "NumberOfOpenCreditLinesAndLoans         0\n",
       "NumberOfTimes90DaysLate                 0\n",
       "NumberRealEstateLoansOrLines            0\n",
       "NumberOfTime60-89DaysPastDueNotWorse    0\n",
       "NumberOfDependents                      0\n",
       "MonthlyIncome_na                        0\n",
       "NumberOfDependents_na                   0\n",
       "dtype: int64"
      ]
     },
     "execution_count": 22,
     "metadata": {},
     "output_type": "execute_result"
    }
   ],
   "source": [
    "# Create Boolean Features\n",
    "data['MonthlyIncome_na'] = data['MonthlyIncome'].isna()\n",
    "data['NumberOfDependents_na'] = data['MonthlyIncome'].isna()\n",
    "\n",
    "# Input median on problem features\n",
    "data['MonthlyIncome'] = data['MonthlyIncome'].fillna(data['MonthlyIncome'].median())\n",
    "data['NumberOfDependents'] = data['NumberOfDependents'].fillna(data['NumberOfDependents'].median())\n",
    "\n",
    "# Check data\n",
    "data.isna().sum()"
   ]
  },
  {
   "cell_type": "markdown",
   "metadata": {},
   "source": [
    "## Outlier treatment\n",
    "We need the bins, previously defined in EDA notebook we will use this bins to encode outlier features\n",
    "- **RevolvingUtilizationOfUnsecuredLines:** [0, 0.029867442, 0.154180737, 0.5590462475, 1.35281445575, 2.146582664, inf]\n",
    "- **Age:** [0, 18, 20, 41, 52, 63, 80, 93, float('Inf')] \n",
    "- **NumberOfTime30-59DaysPastDueNotWorse:** [0, 0.99, 1, 2, 4, 6, 10, 13, float('Inf')]\n",
    "- **DebtRatio:** [-inf, -1.9044659907499997, -0.8646960792499998, 0.17507383225, 0.366507841, 0.86825377325, 1.9080236847499998, 2.9477935962499995, inf]\n",
    "- **MonthlyIncome:** [float('-Inf'), 0, 3400, 5400, 8000, 10000, 15000, 20000, 23000, float('Inf')]\n",
    "- **NumberOfOpenCreditLinesAndLoans**: [float('-inf'), 0, 5, 8, 11, 20, 29, float('inf')]\n",
    "- **NumberOfTimes90DaysLate:** [float('-inf'), 0, 1, 2, 3, 8, 10, float('inf')]\n",
    "- **NumberOfTime60-89DaysPastDueNotWorse:** bins = [float('-inf'), 0, 1, 2, 3, float('inf')]"
   ]
  },
  {
   "cell_type": "code",
   "execution_count": 23,
   "metadata": {},
   "outputs": [],
   "source": [
    "# Encode Outliers\n",
    "data['RevolvingUtilizationOfUnsecuredLines_out'] = np.where(data['RevolvingUtilizationOfUnsecuredLines']>=2.14, 1, 0)\n",
    "data['age_out'] = np.where(data['age'] >= 90, 1, 0)\n",
    "data['NumberOfTime30-59DaysPastDueNotWorse_out'] = np.where(data['NumberOfTime30-59DaysPastDueNotWorse'] > 13, 1, 0)\n",
    "data['DebtRatio_out'] = np.where(data['DebtRatio'] > 2.94, 1, 0)\n",
    "data['MonthlyIncome_out'] = np.where(data['MonthlyIncome'] > 23000, 1, 0)\n",
    "data['NumberOfOpenCreditLinesAndLoans_out'] = np.where(data['NumberOfOpenCreditLinesAndLoans'] > 20, 1, 0)\n",
    "data['NumberOfTimes90DaysLate_out'] = np.where(data['NumberOfTimes90DaysLate'] > 10, 1, 0)\n",
    "data['NumberOfTime60-89DaysPastDueNotWorse_out'] = np.where(data['NumberOfTime60-89DaysPastDueNotWorse'] > 3, 1, 0)\n"
   ]
  },
  {
   "cell_type": "markdown",
   "metadata": {},
   "source": [
    "## Data Standarization without Outliers"
   ]
  },
  {
   "cell_type": "code",
   "execution_count": 26,
   "metadata": {},
   "outputs": [
    {
     "data": {
      "text/html": [
       "<div>\n",
       "<style scoped>\n",
       "    .dataframe tbody tr th:only-of-type {\n",
       "        vertical-align: middle;\n",
       "    }\n",
       "\n",
       "    .dataframe tbody tr th {\n",
       "        vertical-align: top;\n",
       "    }\n",
       "\n",
       "    .dataframe thead th {\n",
       "        text-align: right;\n",
       "    }\n",
       "</style>\n",
       "<table border=\"1\" class=\"dataframe\">\n",
       "  <thead>\n",
       "    <tr style=\"text-align: right;\">\n",
       "      <th></th>\n",
       "      <th>SeriousDlqin2yrs</th>\n",
       "      <th>RevolvingUtilizationOfUnsecuredLines</th>\n",
       "      <th>age</th>\n",
       "      <th>NumberOfTime30-59DaysPastDueNotWorse</th>\n",
       "      <th>DebtRatio</th>\n",
       "      <th>MonthlyIncome</th>\n",
       "      <th>NumberOfOpenCreditLinesAndLoans</th>\n",
       "      <th>NumberOfTimes90DaysLate</th>\n",
       "      <th>NumberRealEstateLoansOrLines</th>\n",
       "      <th>NumberOfTime60-89DaysPastDueNotWorse</th>\n",
       "      <th>NumberOfDependents</th>\n",
       "      <th>MonthlyIncome_na</th>\n",
       "      <th>NumberOfDependents_na</th>\n",
       "      <th>RevolvingUtilizationOfUnsecuredLines_out</th>\n",
       "      <th>age_out</th>\n",
       "      <th>NumberOfTime30-59DaysPastDueNotWorse_out</th>\n",
       "      <th>DebtRatio_out</th>\n",
       "      <th>MonthlyIncome_out</th>\n",
       "      <th>NumberOfOpenCreditLinesAndLoans_out</th>\n",
       "      <th>NumberOfTimes90DaysLate_out</th>\n",
       "      <th>NumberOfTime60-89DaysPastDueNotWorse_out</th>\n",
       "    </tr>\n",
       "  </thead>\n",
       "  <tbody>\n",
       "    <tr>\n",
       "      <th>0</th>\n",
       "      <td>1</td>\n",
       "      <td>0.766127</td>\n",
       "      <td>45</td>\n",
       "      <td>2</td>\n",
       "      <td>0.802982</td>\n",
       "      <td>9120.0</td>\n",
       "      <td>13</td>\n",
       "      <td>0</td>\n",
       "      <td>6</td>\n",
       "      <td>0</td>\n",
       "      <td>2.0</td>\n",
       "      <td>False</td>\n",
       "      <td>False</td>\n",
       "      <td>0</td>\n",
       "      <td>0</td>\n",
       "      <td>0</td>\n",
       "      <td>0</td>\n",
       "      <td>0</td>\n",
       "      <td>0</td>\n",
       "      <td>0</td>\n",
       "      <td>0</td>\n",
       "    </tr>\n",
       "    <tr>\n",
       "      <th>1</th>\n",
       "      <td>0</td>\n",
       "      <td>0.957151</td>\n",
       "      <td>40</td>\n",
       "      <td>0</td>\n",
       "      <td>0.121876</td>\n",
       "      <td>2600.0</td>\n",
       "      <td>4</td>\n",
       "      <td>0</td>\n",
       "      <td>0</td>\n",
       "      <td>0</td>\n",
       "      <td>1.0</td>\n",
       "      <td>False</td>\n",
       "      <td>False</td>\n",
       "      <td>0</td>\n",
       "      <td>0</td>\n",
       "      <td>0</td>\n",
       "      <td>0</td>\n",
       "      <td>0</td>\n",
       "      <td>0</td>\n",
       "      <td>0</td>\n",
       "      <td>0</td>\n",
       "    </tr>\n",
       "    <tr>\n",
       "      <th>2</th>\n",
       "      <td>0</td>\n",
       "      <td>0.658180</td>\n",
       "      <td>38</td>\n",
       "      <td>1</td>\n",
       "      <td>0.085113</td>\n",
       "      <td>3042.0</td>\n",
       "      <td>2</td>\n",
       "      <td>1</td>\n",
       "      <td>0</td>\n",
       "      <td>0</td>\n",
       "      <td>0.0</td>\n",
       "      <td>False</td>\n",
       "      <td>False</td>\n",
       "      <td>0</td>\n",
       "      <td>0</td>\n",
       "      <td>0</td>\n",
       "      <td>0</td>\n",
       "      <td>0</td>\n",
       "      <td>0</td>\n",
       "      <td>0</td>\n",
       "      <td>0</td>\n",
       "    </tr>\n",
       "    <tr>\n",
       "      <th>3</th>\n",
       "      <td>0</td>\n",
       "      <td>0.233810</td>\n",
       "      <td>30</td>\n",
       "      <td>0</td>\n",
       "      <td>0.036050</td>\n",
       "      <td>3300.0</td>\n",
       "      <td>5</td>\n",
       "      <td>0</td>\n",
       "      <td>0</td>\n",
       "      <td>0</td>\n",
       "      <td>0.0</td>\n",
       "      <td>False</td>\n",
       "      <td>False</td>\n",
       "      <td>0</td>\n",
       "      <td>0</td>\n",
       "      <td>0</td>\n",
       "      <td>0</td>\n",
       "      <td>0</td>\n",
       "      <td>0</td>\n",
       "      <td>0</td>\n",
       "      <td>0</td>\n",
       "    </tr>\n",
       "    <tr>\n",
       "      <th>4</th>\n",
       "      <td>0</td>\n",
       "      <td>0.907239</td>\n",
       "      <td>49</td>\n",
       "      <td>1</td>\n",
       "      <td>0.024926</td>\n",
       "      <td>63588.0</td>\n",
       "      <td>7</td>\n",
       "      <td>0</td>\n",
       "      <td>1</td>\n",
       "      <td>0</td>\n",
       "      <td>0.0</td>\n",
       "      <td>False</td>\n",
       "      <td>False</td>\n",
       "      <td>0</td>\n",
       "      <td>0</td>\n",
       "      <td>0</td>\n",
       "      <td>0</td>\n",
       "      <td>1</td>\n",
       "      <td>0</td>\n",
       "      <td>0</td>\n",
       "      <td>0</td>\n",
       "    </tr>\n",
       "  </tbody>\n",
       "</table>\n",
       "</div>"
      ],
      "text/plain": [
       "   SeriousDlqin2yrs  RevolvingUtilizationOfUnsecuredLines  age  \\\n",
       "0                 1                              0.766127   45   \n",
       "1                 0                              0.957151   40   \n",
       "2                 0                              0.658180   38   \n",
       "3                 0                              0.233810   30   \n",
       "4                 0                              0.907239   49   \n",
       "\n",
       "   NumberOfTime30-59DaysPastDueNotWorse  DebtRatio  MonthlyIncome  \\\n",
       "0                                     2   0.802982         9120.0   \n",
       "1                                     0   0.121876         2600.0   \n",
       "2                                     1   0.085113         3042.0   \n",
       "3                                     0   0.036050         3300.0   \n",
       "4                                     1   0.024926        63588.0   \n",
       "\n",
       "   NumberOfOpenCreditLinesAndLoans  NumberOfTimes90DaysLate  \\\n",
       "0                               13                        0   \n",
       "1                                4                        0   \n",
       "2                                2                        1   \n",
       "3                                5                        0   \n",
       "4                                7                        0   \n",
       "\n",
       "   NumberRealEstateLoansOrLines  NumberOfTime60-89DaysPastDueNotWorse  \\\n",
       "0                             6                                     0   \n",
       "1                             0                                     0   \n",
       "2                             0                                     0   \n",
       "3                             0                                     0   \n",
       "4                             1                                     0   \n",
       "\n",
       "   NumberOfDependents  MonthlyIncome_na  NumberOfDependents_na  \\\n",
       "0                 2.0             False                  False   \n",
       "1                 1.0             False                  False   \n",
       "2                 0.0             False                  False   \n",
       "3                 0.0             False                  False   \n",
       "4                 0.0             False                  False   \n",
       "\n",
       "   RevolvingUtilizationOfUnsecuredLines_out  age_out  \\\n",
       "0                                         0        0   \n",
       "1                                         0        0   \n",
       "2                                         0        0   \n",
       "3                                         0        0   \n",
       "4                                         0        0   \n",
       "\n",
       "   NumberOfTime30-59DaysPastDueNotWorse_out  DebtRatio_out  MonthlyIncome_out  \\\n",
       "0                                         0              0                  0   \n",
       "1                                         0              0                  0   \n",
       "2                                         0              0                  0   \n",
       "3                                         0              0                  0   \n",
       "4                                         0              0                  1   \n",
       "\n",
       "   NumberOfOpenCreditLinesAndLoans_out  NumberOfTimes90DaysLate_out  \\\n",
       "0                                    0                            0   \n",
       "1                                    0                            0   \n",
       "2                                    0                            0   \n",
       "3                                    0                            0   \n",
       "4                                    0                            0   \n",
       "\n",
       "   NumberOfTime60-89DaysPastDueNotWorse_out  \n",
       "0                                         0  \n",
       "1                                         0  \n",
       "2                                         0  \n",
       "3                                         0  \n",
       "4                                         0  "
      ]
     },
     "execution_count": 26,
     "metadata": {},
     "output_type": "execute_result"
    }
   ],
   "source": [
    "# Remove Outliers from Data\n",
    "data['RevolvingUtilizationOfUnsecuredLines'] = np.where(data['RevolvingUtilizationOfUnsecuredLines_out']>=2.14, 2.14, data['RevolvingUtilizationOfUnsecuredLines'])\n",
    "data['age'] = np.where(data['age_out'] >= 90, 90, data['age'])\n",
    "data['NumberOfTime30-59DaysPastDueNotWorse'] = np.where(data['NumberOfTime30-59DaysPastDueNotWorse_out'] > 13, 13, data['NumberOfTime30-59DaysPastDueNotWorse'])\n",
    "data['DebtRatio'] = np.where(data['DebtRatio_out'] > 2.94, 2.94, data['DebtRatio'])\n",
    "data['MonthlyIncome'] = np.where(data['MonthlyIncome_out'] > 23000, 23000, data['MonthlyIncome'])\n",
    "data['NumberOfOpenCreditLinesAndLoans'] = np.where(data['NumberOfOpenCreditLinesAndLoans_out'] > 20, 20, data['NumberOfOpenCreditLinesAndLoans'])\n",
    "data['NumberOfTimes90DaysLate'] = np.where(data['NumberOfTimes90DaysLate'] > 10, 10, data['NumberOfTimes90DaysLate'])\n",
    "data['NumberOfTime60-89DaysPastDueNotWorse'] = np.where(data['NumberOfTime60-89DaysPastDueNotWorse'] > 3, 3, data['NumberOfTime60-89DaysPastDueNotWorse'])\n",
    "data.head()"
   ]
  },
  {
   "cell_type": "markdown",
   "metadata": {},
   "source": [
    "# Model Training\n",
    "We are facing a Classification Problem, our target is to define the probability of an event of delinquency in the next 2 years. As a primer we will fit a random forest model to test the performance of our features."
   ]
  },
  {
   "cell_type": "markdown",
   "metadata": {},
   "source": [
    "## Train Test Split to avoid Leakage"
   ]
  },
  {
   "cell_type": "code",
   "execution_count": 34,
   "metadata": {},
   "outputs": [],
   "source": [
    "X = data[['RevolvingUtilizationOfUnsecuredLines',\n",
    "          'age',\n",
    "          'NumberOfTime30-59DaysPastDueNotWorse',\n",
    "          'DebtRatio',\n",
    "          'MonthlyIncome',\n",
    "          'NumberOfOpenCreditLinesAndLoans',\n",
    "          'NumberOfTimes90DaysLate',\n",
    "          'NumberOfTime60-89DaysPastDueNotWorse',\n",
    "          'NumberOfDependents'\n",
    "\n",
    "          ]]"
   ]
  },
  {
   "cell_type": "code",
   "execution_count": 35,
   "metadata": {},
   "outputs": [],
   "source": [
    "y = data['SeriousDlqin2yrs']\n",
    "X_train, X_test, y_train, y_test = train_test_split(X, y, test_size = .30, random_state=42)"
   ]
  },
  {
   "cell_type": "markdown",
   "metadata": {},
   "source": [
    "## Model training"
   ]
  },
  {
   "cell_type": "code",
   "execution_count": 36,
   "metadata": {},
   "outputs": [
    {
     "data": {
      "text/plain": [
       "RandomForestClassifier(random_state=42)"
      ]
     },
     "execution_count": 36,
     "metadata": {},
     "output_type": "execute_result"
    }
   ],
   "source": [
    "names = X.columns\n",
    "scaler = preprocessing.StandardScaler()\n",
    "\n",
    "\n",
    "# Model without Outlier features\n",
    "rfc = RandomForestClassifier(random_state=42)\n",
    "rfc.fit(X_train, y_train)\n"
   ]
  },
  {
   "cell_type": "markdown",
   "metadata": {},
   "source": [
    "## Performance metrics"
   ]
  },
  {
   "cell_type": "code",
   "execution_count": 37,
   "metadata": {},
   "outputs": [
    {
     "data": {
      "image/png": "[encoded data removed]",
      "text/plain": [
       "<Figure size 432x288 with 1 Axes>"
      ]
     },
     "metadata": {
      "needs_background": "light"
     },
     "output_type": "display_data"
    }
   ],
   "source": [
    "#X_train = scaler.fit_transform(X_test)\n",
    "X_test = pd.DataFrame(X_test, columns=names)\n",
    "\n",
    "rfc_disp = plot_roc_curve(rfc, X_test, y_test)"
   ]
  },
  {
   "cell_type": "code",
   "execution_count": 38,
   "metadata": {},
   "outputs": [
    {
     "name": "stdout",
     "output_type": "stream",
     "text": [
      "Feature: 0, Score: 0.20007\n",
      "Feature: 1, Score: 0.12988\n",
      "Feature: 2, Score: 0.04972\n",
      "Feature: 3, Score: 0.19124\n",
      "Feature: 4, Score: 0.15445\n",
      "Feature: 5, Score: 0.09045\n",
      "Feature: 6, Score: 0.09124\n",
      "Feature: 7, Score: 0.05009\n",
      "Feature: 8, Score: 0.04288\n"
     ]
    },
    {
     "data": {
      "image/png": "[encoded data removed]",
      "text/plain": [
       "<Figure size 432x288 with 1 Axes>"
      ]
     },
     "metadata": {
      "needs_background": "light"
     },
     "output_type": "display_data"
    }
   ],
   "source": [
    "## Variable Importance\n",
    "importance = rfc.feature_importances_\n",
    "# summarize feature importance\n",
    "for i,v in enumerate(importance):\n",
    "\tprint('Feature: %0d, Score: %.5f' % (i,v))\n",
    "# plot feature importance\n",
    "pyplot.bar([x for x in range(len(importance))], importance)\n",
    "pyplot.show()"
   ]
  },
  {
   "cell_type": "code",
   "execution_count": 39,
   "metadata": {},
   "outputs": [
    {
     "data": {
      "text/plain": [
       "RevolvingUtilizationOfUnsecuredLines    0.200069\n",
       "DebtRatio                               0.191242\n",
       "MonthlyIncome                           0.154445\n",
       "age                                     0.129877\n",
       "NumberOfTimes90DaysLate                 0.091236\n",
       "NumberOfOpenCreditLinesAndLoans         0.090448\n",
       "NumberOfTime60-89DaysPastDueNotWorse    0.050085\n",
       "NumberOfTime30-59DaysPastDueNotWorse    0.049717\n",
       "NumberOfDependents                      0.042881\n",
       "dtype: float64"
      ]
     },
     "execution_count": 39,
     "metadata": {},
     "output_type": "execute_result"
    }
   ],
   "source": [
    "feature_imp = pd.Series(rfc.feature_importances_,index=X.columns).sort_values(ascending=False)\n",
    "feature_imp"
   ]
  },
  {
   "cell_type": "code",
   "execution_count": 40,
   "metadata": {},
   "outputs": [
    {
     "name": "stderr",
     "output_type": "stream",
     "text": [
      "No handles with labels found to put in legend.\n"
     ]
    },
    {
     "data": {
      "image/png": "[encoded data removed]",
      "text/plain": [
       "<Figure size 432x288 with 1 Axes>"
      ]
     },
     "metadata": {
      "needs_background": "light"
     },
     "output_type": "display_data"
    }
   ],
   "source": [
    "import matplotlib.pyplot as plt\n",
    "import seaborn as sns\n",
    "%matplotlib inline\n",
    "# Creating a bar plot\n",
    "sns.barplot(x=feature_imp, y=feature_imp.index)\n",
    "# Add labels to your graph\n",
    "plt.xlabel('Feature Importance Score')\n",
    "plt.ylabel('Features')\n",
    "plt.title(\"Visualizing Important Features\")\n",
    "plt.legend()\n",
    "plt.show()"
   ]
  }
 ],
 "metadata": {
  "kernelspec": {
   "display_name": "Python 3",
   "language": "python",
   "name": "python3"
  },
  "language_info": {
   "codemirror_mode": {
    "name": "ipython",
    "version": 3
   },
   "file_extension": ".py",
   "mimetype": "text/x-python",
   "name": "python",
   "nbconvert_exporter": "python",
   "pygments_lexer": "ipython3",
   "version": "3.8.3"
  }
 },
 "nbformat": 4,
 "nbformat_minor": 4
}
